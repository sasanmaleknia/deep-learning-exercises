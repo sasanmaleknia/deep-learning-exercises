{
 "cells": [
  {
   "cell_type": "markdown",
   "id": "fd0777ac-4bb6-484c-9a23-d90be4a8e4f2",
   "metadata": {},
   "source": [
    "# Importing needed packages"
   ]
  },
  {
   "cell_type": "code",
   "execution_count": 1,
   "id": "46758846-dec4-4d3f-8aa2-77b6a58eb262",
   "metadata": {},
   "outputs": [],
   "source": [
    "import numpy as np\n",
    "import pandas as pd\n",
    "import matplotlib.pyplot as plt\n",
    "import tensorflow as tf\n",
    "from tensorflow import keras\n",
    "from keras.models import Sequential\n",
    "from keras.layers import Flatten\n",
    "from keras.layers import Dense"
   ]
  },
  {
   "cell_type": "code",
   "execution_count": 2,
   "id": "a85ebe94-c0eb-4377-a954-d10ec9690241",
   "metadata": {},
   "outputs": [],
   "source": [
    "data = keras.datasets.fashion_mnist.load_data()"
   ]
  },
  {
   "cell_type": "markdown",
   "id": "007f2d99-89a0-4a73-aed9-b349aeddceb0",
   "metadata": {},
   "source": [
    "# Label\tDescription\n",
    "0\tT-shirt/top\n",
    "1\tTrouser\n",
    "2\tPullover\n",
    "3\tDress\n",
    "4\tCoat\n",
    "5\tSandal\n",
    "6\tShirt\n",
    "7\tSneaker\n",
    "8\tBag\n",
    "9\tAnkle boot"
   ]
  },
  {
   "cell_type": "code",
   "execution_count": 3,
   "id": "56ee87d4-ff80-412a-983d-aceb190ab630",
   "metadata": {},
   "outputs": [],
   "source": [
    "(x_train, y_train),(x_test, y_test) = data"
   ]
  },
  {
   "cell_type": "code",
   "execution_count": 4,
   "id": "5696fee2-8df7-4479-a187-9a2f340e8203",
   "metadata": {},
   "outputs": [
    {
     "name": "stdout",
     "output_type": "stream",
     "text": [
      "training set:\n",
      "((60000, 28, 28), (60000,))\n"
     ]
    }
   ],
   "source": [
    "print(f\"training set:\\n{x_train.shape, y_train.shape}\")"
   ]
  },
  {
   "cell_type": "code",
   "execution_count": 5,
   "id": "b08db5b8-2644-44fa-b05e-e02817618bb9",
   "metadata": {},
   "outputs": [
    {
     "name": "stdout",
     "output_type": "stream",
     "text": [
      "testing set:\n",
      "((10000, 28, 28), (10000,))\n"
     ]
    }
   ],
   "source": [
    "print(f\"testing set:\\n{x_test.shape, y_test.shape}\")"
   ]
  },
  {
   "cell_type": "code",
   "execution_count": 6,
   "id": "58f3af19-248b-402d-a642-eff28ccddeca",
   "metadata": {},
   "outputs": [
    {
     "name": "stdout",
     "output_type": "stream",
     "text": [
      "[[  0   0   0   0   0   0   0   0   0   0   0   0   0   0   0   0   0   0\n",
      "    0   0   0   0   0   0   0   0   0   0]\n",
      " [  0   0   0   0   0   0   0   0   0   0   0   0   0   0   0   0   0   0\n",
      "    0   0   0   0   0   0   0   0   0   0]\n",
      " [  0   0   0   0   0   0   0   0   0   0   0   0   0   0   0   0   0   0\n",
      "    0   0   0   0   0   0   0   0   0   0]\n",
      " [  0   0   0   0   0   0   0   0   0   0   0   0   1   0   0  13  73   0\n",
      "    0   1   4   0   0   0   0   1   1   0]\n",
      " [  0   0   0   0   0   0   0   0   0   0   0   0   3   0  36 136 127  62\n",
      "   54   0   0   0   1   3   4   0   0   3]\n",
      " [  0   0   0   0   0   0   0   0   0   0   0   0   6   0 102 204 176 134\n",
      "  144 123  23   0   0   0   0  12  10   0]\n",
      " [  0   0   0   0   0   0   0   0   0   0   0   0   0   0 155 236 207 178\n",
      "  107 156 161 109  64  23  77 130  72  15]\n",
      " [  0   0   0   0   0   0   0   0   0   0   0   1   0  69 207 223 218 216\n",
      "  216 163 127 121 122 146 141  88 172  66]\n",
      " [  0   0   0   0   0   0   0   0   0   1   1   1   0 200 232 232 233 229\n",
      "  223 223 215 213 164 127 123 196 229   0]\n",
      " [  0   0   0   0   0   0   0   0   0   0   0   0   0 183 225 216 223 228\n",
      "  235 227 224 222 224 221 223 245 173   0]\n",
      " [  0   0   0   0   0   0   0   0   0   0   0   0   0 193 228 218 213 198\n",
      "  180 212 210 211 213 223 220 243 202   0]\n",
      " [  0   0   0   0   0   0   0   0   0   1   3   0  12 219 220 212 218 192\n",
      "  169 227 208 218 224 212 226 197 209  52]\n",
      " [  0   0   0   0   0   0   0   0   0   0   6   0  99 244 222 220 218 203\n",
      "  198 221 215 213 222 220 245 119 167  56]\n",
      " [  0   0   0   0   0   0   0   0   0   4   0   0  55 236 228 230 228 240\n",
      "  232 213 218 223 234 217 217 209  92   0]\n",
      " [  0   0   1   4   6   7   2   0   0   0   0   0 237 226 217 223 222 219\n",
      "  222 221 216 223 229 215 218 255  77   0]\n",
      " [  0   3   0   0   0   0   0   0   0  62 145 204 228 207 213 221 218 208\n",
      "  211 218 224 223 219 215 224 244 159   0]\n",
      " [  0   0   0   0  18  44  82 107 189 228 220 222 217 226 200 205 211 230\n",
      "  224 234 176 188 250 248 233 238 215   0]\n",
      " [  0  57 187 208 224 221 224 208 204 214 208 209 200 159 245 193 206 223\n",
      "  255 255 221 234 221 211 220 232 246   0]\n",
      " [  3 202 228 224 221 211 211 214 205 205 205 220 240  80 150 255 229 221\n",
      "  188 154 191 210 204 209 222 228 225   0]\n",
      " [ 98 233 198 210 222 229 229 234 249 220 194 215 217 241  65  73 106 117\n",
      "  168 219 221 215 217 223 223 224 229  29]\n",
      " [ 75 204 212 204 193 205 211 225 216 185 197 206 198 213 240 195 227 245\n",
      "  239 223 218 212 209 222 220 221 230  67]\n",
      " [ 48 203 183 194 213 197 185 190 194 192 202 214 219 221 220 236 225 216\n",
      "  199 206 186 181 177 172 181 205 206 115]\n",
      " [  0 122 219 193 179 171 183 196 204 210 213 207 211 210 200 196 194 191\n",
      "  195 191 198 192 176 156 167 177 210  92]\n",
      " [  0   0  74 189 212 191 175 172 175 181 185 188 189 188 193 198 204 209\n",
      "  210 210 211 188 188 194 192 216 170   0]\n",
      " [  2   0   0   0  66 200 222 237 239 242 246 243 244 221 220 193 191 179\n",
      "  182 182 181 176 166 168  99  58   0   0]\n",
      " [  0   0   0   0   0   0   0  40  61  44  72  41  35   0   0   0   0   0\n",
      "    0   0   0   0   0   0   0   0   0   0]\n",
      " [  0   0   0   0   0   0   0   0   0   0   0   0   0   0   0   0   0   0\n",
      "    0   0   0   0   0   0   0   0   0   0]\n",
      " [  0   0   0   0   0   0   0   0   0   0   0   0   0   0   0   0   0   0\n",
      "    0   0   0   0   0   0   0   0   0   0]]\n"
     ]
    }
   ],
   "source": [
    "print(x_train[0])"
   ]
  },
  {
   "cell_type": "code",
   "execution_count": 7,
   "id": "db81ac70-e6b8-4a2e-8d00-f043f9c3d6d1",
   "metadata": {},
   "outputs": [
    {
     "data": {
      "image/png": "[encoded data removed]",
      "text/plain": [
       "<Figure size 640x480 with 1 Axes>"
      ]
     },
     "metadata": {},
     "output_type": "display_data"
    }
   ],
   "source": [
    "plt.imshow(x_train[15],cmap=\"gray\");"
   ]
  },
  {
   "cell_type": "markdown",
   "id": "dd4a5784-0fa2-4c29-871e-3e3fc5d50979",
   "metadata": {},
   "source": [
    "# Normalizing the data "
   ]
  },
  {
   "cell_type": "code",
   "execution_count": 8,
   "id": "04936072-5db6-4a02-a4ce-af2321793dcf",
   "metadata": {},
   "outputs": [],
   "source": [
    "x_train, x_test = x_train / 255.0, x_test / 255.0"
   ]
  },
  {
   "cell_type": "code",
   "execution_count": 9,
   "id": "85083743-ca8d-48cf-90f1-bb73cbd8c3c7",
   "metadata": {},
   "outputs": [
    {
     "name": "stdout",
     "output_type": "stream",
     "text": [
      "[[0.         0.         0.         0.         0.         0.\n",
      "  0.         0.         0.         0.         0.         0.\n",
      "  0.         0.         0.         0.         0.         0.\n",
      "  0.         0.         0.         0.         0.         0.\n",
      "  0.         0.         0.         0.        ]\n",
      " [0.         0.         0.         0.         0.         0.\n",
      "  0.         0.         0.         0.         0.         0.\n",
      "  0.         0.         0.         0.         0.         0.\n",
      "  0.         0.         0.         0.         0.         0.\n",
      "  0.         0.         0.         0.        ]\n",
      " [0.         0.         0.         0.         0.         0.\n",
      "  0.         0.         0.         0.         0.         0.\n",
      "  0.         0.         0.         0.         0.         0.\n",
      "  0.         0.         0.         0.         0.         0.\n",
      "  0.         0.         0.         0.        ]\n",
      " [0.         0.         0.         0.         0.         0.\n",
      "  0.         0.         0.         0.         0.         0.\n",
      "  0.00392157 0.         0.         0.05098039 0.28627451 0.\n",
      "  0.         0.00392157 0.01568627 0.         0.         0.\n",
      "  0.         0.00392157 0.00392157 0.        ]\n",
      " [0.         0.         0.         0.         0.         0.\n",
      "  0.         0.         0.         0.         0.         0.\n",
      "  0.01176471 0.         0.14117647 0.53333333 0.49803922 0.24313725\n",
      "  0.21176471 0.         0.         0.         0.00392157 0.01176471\n",
      "  0.01568627 0.         0.         0.01176471]\n",
      " [0.         0.         0.         0.         0.         0.\n",
      "  0.         0.         0.         0.         0.         0.\n",
      "  0.02352941 0.         0.4        0.8        0.69019608 0.5254902\n",
      "  0.56470588 0.48235294 0.09019608 0.         0.         0.\n",
      "  0.         0.04705882 0.03921569 0.        ]\n",
      " [0.         0.         0.         0.         0.         0.\n",
      "  0.         0.         0.         0.         0.         0.\n",
      "  0.         0.         0.60784314 0.9254902  0.81176471 0.69803922\n",
      "  0.41960784 0.61176471 0.63137255 0.42745098 0.25098039 0.09019608\n",
      "  0.30196078 0.50980392 0.28235294 0.05882353]\n",
      " [0.         0.         0.         0.         0.         0.\n",
      "  0.         0.         0.         0.         0.         0.00392157\n",
      "  0.         0.27058824 0.81176471 0.8745098  0.85490196 0.84705882\n",
      "  0.84705882 0.63921569 0.49803922 0.4745098  0.47843137 0.57254902\n",
      "  0.55294118 0.34509804 0.6745098  0.25882353]\n",
      " [0.         0.         0.         0.         0.         0.\n",
      "  0.         0.         0.         0.00392157 0.00392157 0.00392157\n",
      "  0.         0.78431373 0.90980392 0.90980392 0.91372549 0.89803922\n",
      "  0.8745098  0.8745098  0.84313725 0.83529412 0.64313725 0.49803922\n",
      "  0.48235294 0.76862745 0.89803922 0.        ]\n",
      " [0.         0.         0.         0.         0.         0.\n",
      "  0.         0.         0.         0.         0.         0.\n",
      "  0.         0.71764706 0.88235294 0.84705882 0.8745098  0.89411765\n",
      "  0.92156863 0.89019608 0.87843137 0.87058824 0.87843137 0.86666667\n",
      "  0.8745098  0.96078431 0.67843137 0.        ]\n",
      " [0.         0.         0.         0.         0.         0.\n",
      "  0.         0.         0.         0.         0.         0.\n",
      "  0.         0.75686275 0.89411765 0.85490196 0.83529412 0.77647059\n",
      "  0.70588235 0.83137255 0.82352941 0.82745098 0.83529412 0.8745098\n",
      "  0.8627451  0.95294118 0.79215686 0.        ]\n",
      " [0.         0.         0.         0.         0.         0.\n",
      "  0.         0.         0.         0.00392157 0.01176471 0.\n",
      "  0.04705882 0.85882353 0.8627451  0.83137255 0.85490196 0.75294118\n",
      "  0.6627451  0.89019608 0.81568627 0.85490196 0.87843137 0.83137255\n",
      "  0.88627451 0.77254902 0.81960784 0.20392157]\n",
      " [0.         0.         0.         0.         0.         0.\n",
      "  0.         0.         0.         0.         0.02352941 0.\n",
      "  0.38823529 0.95686275 0.87058824 0.8627451  0.85490196 0.79607843\n",
      "  0.77647059 0.86666667 0.84313725 0.83529412 0.87058824 0.8627451\n",
      "  0.96078431 0.46666667 0.65490196 0.21960784]\n",
      " [0.         0.         0.         0.         0.         0.\n",
      "  0.         0.         0.         0.01568627 0.         0.\n",
      "  0.21568627 0.9254902  0.89411765 0.90196078 0.89411765 0.94117647\n",
      "  0.90980392 0.83529412 0.85490196 0.8745098  0.91764706 0.85098039\n",
      "  0.85098039 0.81960784 0.36078431 0.        ]\n",
      " [0.         0.         0.00392157 0.01568627 0.02352941 0.02745098\n",
      "  0.00784314 0.         0.         0.         0.         0.\n",
      "  0.92941176 0.88627451 0.85098039 0.8745098  0.87058824 0.85882353\n",
      "  0.87058824 0.86666667 0.84705882 0.8745098  0.89803922 0.84313725\n",
      "  0.85490196 1.         0.30196078 0.        ]\n",
      " [0.         0.01176471 0.         0.         0.         0.\n",
      "  0.         0.         0.         0.24313725 0.56862745 0.8\n",
      "  0.89411765 0.81176471 0.83529412 0.86666667 0.85490196 0.81568627\n",
      "  0.82745098 0.85490196 0.87843137 0.8745098  0.85882353 0.84313725\n",
      "  0.87843137 0.95686275 0.62352941 0.        ]\n",
      " [0.         0.         0.         0.         0.07058824 0.17254902\n",
      "  0.32156863 0.41960784 0.74117647 0.89411765 0.8627451  0.87058824\n",
      "  0.85098039 0.88627451 0.78431373 0.80392157 0.82745098 0.90196078\n",
      "  0.87843137 0.91764706 0.69019608 0.7372549  0.98039216 0.97254902\n",
      "  0.91372549 0.93333333 0.84313725 0.        ]\n",
      " [0.         0.22352941 0.73333333 0.81568627 0.87843137 0.86666667\n",
      "  0.87843137 0.81568627 0.8        0.83921569 0.81568627 0.81960784\n",
      "  0.78431373 0.62352941 0.96078431 0.75686275 0.80784314 0.8745098\n",
      "  1.         1.         0.86666667 0.91764706 0.86666667 0.82745098\n",
      "  0.8627451  0.90980392 0.96470588 0.        ]\n",
      " [0.01176471 0.79215686 0.89411765 0.87843137 0.86666667 0.82745098\n",
      "  0.82745098 0.83921569 0.80392157 0.80392157 0.80392157 0.8627451\n",
      "  0.94117647 0.31372549 0.58823529 1.         0.89803922 0.86666667\n",
      "  0.7372549  0.60392157 0.74901961 0.82352941 0.8        0.81960784\n",
      "  0.87058824 0.89411765 0.88235294 0.        ]\n",
      " [0.38431373 0.91372549 0.77647059 0.82352941 0.87058824 0.89803922\n",
      "  0.89803922 0.91764706 0.97647059 0.8627451  0.76078431 0.84313725\n",
      "  0.85098039 0.94509804 0.25490196 0.28627451 0.41568627 0.45882353\n",
      "  0.65882353 0.85882353 0.86666667 0.84313725 0.85098039 0.8745098\n",
      "  0.8745098  0.87843137 0.89803922 0.11372549]\n",
      " [0.29411765 0.8        0.83137255 0.8        0.75686275 0.80392157\n",
      "  0.82745098 0.88235294 0.84705882 0.7254902  0.77254902 0.80784314\n",
      "  0.77647059 0.83529412 0.94117647 0.76470588 0.89019608 0.96078431\n",
      "  0.9372549  0.8745098  0.85490196 0.83137255 0.81960784 0.87058824\n",
      "  0.8627451  0.86666667 0.90196078 0.2627451 ]\n",
      " [0.18823529 0.79607843 0.71764706 0.76078431 0.83529412 0.77254902\n",
      "  0.7254902  0.74509804 0.76078431 0.75294118 0.79215686 0.83921569\n",
      "  0.85882353 0.86666667 0.8627451  0.9254902  0.88235294 0.84705882\n",
      "  0.78039216 0.80784314 0.72941176 0.70980392 0.69411765 0.6745098\n",
      "  0.70980392 0.80392157 0.80784314 0.45098039]\n",
      " [0.         0.47843137 0.85882353 0.75686275 0.70196078 0.67058824\n",
      "  0.71764706 0.76862745 0.8        0.82352941 0.83529412 0.81176471\n",
      "  0.82745098 0.82352941 0.78431373 0.76862745 0.76078431 0.74901961\n",
      "  0.76470588 0.74901961 0.77647059 0.75294118 0.69019608 0.61176471\n",
      "  0.65490196 0.69411765 0.82352941 0.36078431]\n",
      " [0.         0.         0.29019608 0.74117647 0.83137255 0.74901961\n",
      "  0.68627451 0.6745098  0.68627451 0.70980392 0.7254902  0.7372549\n",
      "  0.74117647 0.7372549  0.75686275 0.77647059 0.8        0.81960784\n",
      "  0.82352941 0.82352941 0.82745098 0.7372549  0.7372549  0.76078431\n",
      "  0.75294118 0.84705882 0.66666667 0.        ]\n",
      " [0.00784314 0.         0.         0.         0.25882353 0.78431373\n",
      "  0.87058824 0.92941176 0.9372549  0.94901961 0.96470588 0.95294118\n",
      "  0.95686275 0.86666667 0.8627451  0.75686275 0.74901961 0.70196078\n",
      "  0.71372549 0.71372549 0.70980392 0.69019608 0.65098039 0.65882353\n",
      "  0.38823529 0.22745098 0.         0.        ]\n",
      " [0.         0.         0.         0.         0.         0.\n",
      "  0.         0.15686275 0.23921569 0.17254902 0.28235294 0.16078431\n",
      "  0.1372549  0.         0.         0.         0.         0.\n",
      "  0.         0.         0.         0.         0.         0.\n",
      "  0.         0.         0.         0.        ]\n",
      " [0.         0.         0.         0.         0.         0.\n",
      "  0.         0.         0.         0.         0.         0.\n",
      "  0.         0.         0.         0.         0.         0.\n",
      "  0.         0.         0.         0.         0.         0.\n",
      "  0.         0.         0.         0.        ]\n",
      " [0.         0.         0.         0.         0.         0.\n",
      "  0.         0.         0.         0.         0.         0.\n",
      "  0.         0.         0.         0.         0.         0.\n",
      "  0.         0.         0.         0.         0.         0.\n",
      "  0.         0.         0.         0.        ]]\n"
     ]
    }
   ],
   "source": [
    "print(x_train[0])"
   ]
  },
  {
   "cell_type": "code",
   "execution_count": 10,
   "id": "42455ccb-1604-4607-b44f-8d0dcf562ad3",
   "metadata": {},
   "outputs": [
    {
     "data": {
      "text/plain": [
       "(60000, 28, 28)"
      ]
     },
     "execution_count": 10,
     "metadata": {},
     "output_type": "execute_result"
    }
   ],
   "source": [
    "x_train.shape"
   ]
  },
  {
   "cell_type": "markdown",
   "id": "a1b346c0-214c-4b26-b8e3-05f138db283a",
   "metadata": {},
   "source": [
    "# Creating the model"
   ]
  },
  {
   "cell_type": "code",
   "execution_count": 11,
   "id": "9b9dba59-59d4-4573-a8df-dd1f09c49d06",
   "metadata": {},
   "outputs": [],
   "source": [
    "model = Sequential(\n",
    "    [\n",
    "        Flatten(input_shape=[28,28]), # input layer\n",
    "        Dense(units=100, activation=\"relu\"), # first hidden layer\n",
    "        Dense(units=75, activation=\"relu\"), # second hidden layer\n",
    "        Dense(units=10, activation=\"softmax\") # output layer\n",
    "    ]\n",
    ")"
   ]
  },
  {
   "cell_type": "code",
   "execution_count": 12,
   "id": "0ce0455c-687f-43ba-81ad-e1480ec8fea3",
   "metadata": {},
   "outputs": [
    {
     "name": "stdout",
     "output_type": "stream",
     "text": [
      "Model: \"sequential\"\n",
      "_________________________________________________________________\n",
      " Layer (type)                Output Shape              Param #   \n",
      "=================================================================\n",
      " flatten (Flatten)           (None, 784)               0         \n",
      "                                                                 \n",
      " dense (Dense)               (None, 100)               78500     \n",
      "                                                                 \n",
      " dense_1 (Dense)             (None, 75)                7575      \n",
      "                                                                 \n",
      " dense_2 (Dense)             (None, 10)                760       \n",
      "                                                                 \n",
      "=================================================================\n",
      "Total params: 86,835\n",
      "Trainable params: 86,835\n",
      "Non-trainable params: 0\n",
      "_________________________________________________________________\n"
     ]
    }
   ],
   "source": [
    "model.summary()"
   ]
  },
  {
   "cell_type": "code",
   "execution_count": 13,
   "id": "20aceb04-82f9-41b1-8d89-abeb1b496290",
   "metadata": {},
   "outputs": [
    {
     "data": {
      "text/plain": [
       "[<keras.layers.reshaping.flatten.Flatten at 0x1eb677c0dc0>,\n",
       " <keras.layers.core.dense.Dense at 0x1eb550aef50>,\n",
       " <keras.layers.core.dense.Dense at 0x1eb550ad270>,\n",
       " <keras.layers.core.dense.Dense at 0x1eb677f4430>]"
      ]
     },
     "execution_count": 13,
     "metadata": {},
     "output_type": "execute_result"
    }
   ],
   "source": [
    "model.layers"
   ]
  },
  {
   "cell_type": "code",
   "execution_count": 14,
   "id": "f2cd0026-091d-401c-bef1-bd8492646794",
   "metadata": {},
   "outputs": [],
   "source": [
    "weight, bias = model.layers[1].get_weights()"
   ]
  },
  {
   "cell_type": "code",
   "execution_count": 15,
   "id": "097169c8-7434-4e0d-b22d-a62022528b8d",
   "metadata": {},
   "outputs": [
    {
     "data": {
      "text/plain": [
       "array([[-0.03957863, -0.00941835, -0.08016577, ...,  0.0418168 ,\n",
       "        -0.05412688, -0.01504885],\n",
       "       [ 0.04103073, -0.06215568,  0.01837318, ...,  0.05349521,\n",
       "         0.00341786,  0.05245394],\n",
       "       [ 0.02993762, -0.00736696,  0.06880589, ..., -0.02791996,\n",
       "         0.01924617, -0.02310723],\n",
       "       ...,\n",
       "       [ 0.04721728, -0.06574097, -0.04363776, ...,  0.06315772,\n",
       "        -0.05829433,  0.02066359],\n",
       "       [ 0.03430367, -0.04752377,  0.0764707 , ..., -0.07170651,\n",
       "        -0.0623007 ,  0.0751591 ],\n",
       "       [ 0.07659437,  0.06486991,  0.08037136, ...,  0.06151761,\n",
       "        -0.03084497,  0.03959264]], dtype=float32)"
      ]
     },
     "execution_count": 15,
     "metadata": {},
     "output_type": "execute_result"
    }
   ],
   "source": [
    "weight"
   ]
  },
  {
   "cell_type": "code",
   "execution_count": 16,
   "id": "d69d912b-87a8-4d9e-ae8a-9b85b4511320",
   "metadata": {},
   "outputs": [
    {
     "data": {
      "text/plain": [
       "array([0., 0., 0., 0., 0., 0., 0., 0., 0., 0., 0., 0., 0., 0., 0., 0., 0.,\n",
       "       0., 0., 0., 0., 0., 0., 0., 0., 0., 0., 0., 0., 0., 0., 0., 0., 0.,\n",
       "       0., 0., 0., 0., 0., 0., 0., 0., 0., 0., 0., 0., 0., 0., 0., 0., 0.,\n",
       "       0., 0., 0., 0., 0., 0., 0., 0., 0., 0., 0., 0., 0., 0., 0., 0., 0.,\n",
       "       0., 0., 0., 0., 0., 0., 0., 0., 0., 0., 0., 0., 0., 0., 0., 0., 0.,\n",
       "       0., 0., 0., 0., 0., 0., 0., 0., 0., 0., 0., 0., 0., 0., 0.],\n",
       "      dtype=float32)"
      ]
     },
     "execution_count": 16,
     "metadata": {},
     "output_type": "execute_result"
    }
   ],
   "source": [
    "bias"
   ]
  },
  {
   "cell_type": "markdown",
   "id": "04c52cc3-4ab3-4591-b8cf-29e1405fe53a",
   "metadata": {},
   "source": [
    "# Compiling and Fitting the model"
   ]
  },
  {
   "cell_type": "code",
   "execution_count": 17,
   "id": "c324b277-586f-4358-9e62-ff5b51b5afa1",
   "metadata": {},
   "outputs": [],
   "source": [
    "model.compile(\n",
    "    loss=\"sparse_categorical_crossentropy\",\n",
    "    optimizer=\"sgd\",\n",
    "    metrics=[\"accuracy\"]\n",
    "\n",
    ")"
   ]
  },
  {
   "cell_type": "code",
   "execution_count": 18,
   "id": "f3f2ad30-6dd0-434f-987e-94cd6414f205",
   "metadata": {},
   "outputs": [
    {
     "name": "stdout",
     "output_type": "stream",
     "text": [
      "Epoch 1/50\n",
      "1688/1688 [==============================] - 3s 2ms/step - loss: 0.8070 - accuracy: 0.7281 - val_loss: 0.5436 - val_accuracy: 0.8150\n",
      "Epoch 2/50\n",
      "1688/1688 [==============================] - 2s 1ms/step - loss: 0.5151 - accuracy: 0.8209 - val_loss: 0.5002 - val_accuracy: 0.8242\n",
      "Epoch 3/50\n",
      "1688/1688 [==============================] - 2s 1ms/step - loss: 0.4667 - accuracy: 0.8367 - val_loss: 0.4668 - val_accuracy: 0.8297\n",
      "Epoch 4/50\n",
      "1688/1688 [==============================] - 2s 1ms/step - loss: 0.4401 - accuracy: 0.8454 - val_loss: 0.4498 - val_accuracy: 0.8393\n",
      "Epoch 5/50\n",
      "1688/1688 [==============================] - 2s 1ms/step - loss: 0.4183 - accuracy: 0.8528 - val_loss: 0.4680 - val_accuracy: 0.8397\n",
      "Epoch 6/50\n",
      "1688/1688 [==============================] - 3s 2ms/step - loss: 0.4037 - accuracy: 0.8582 - val_loss: 0.4195 - val_accuracy: 0.8520\n",
      "Epoch 7/50\n",
      "1688/1688 [==============================] - 3s 2ms/step - loss: 0.3902 - accuracy: 0.8626 - val_loss: 0.3944 - val_accuracy: 0.8593\n",
      "Epoch 8/50\n",
      "1688/1688 [==============================] - 2s 1ms/step - loss: 0.3780 - accuracy: 0.8665 - val_loss: 0.3853 - val_accuracy: 0.8618\n",
      "Epoch 9/50\n",
      "1688/1688 [==============================] - 2s 1ms/step - loss: 0.3689 - accuracy: 0.8692 - val_loss: 0.4034 - val_accuracy: 0.8535\n",
      "Epoch 10/50\n",
      "1688/1688 [==============================] - 2s 1ms/step - loss: 0.3597 - accuracy: 0.8730 - val_loss: 0.3778 - val_accuracy: 0.8667\n",
      "Epoch 11/50\n",
      "1688/1688 [==============================] - 2s 1ms/step - loss: 0.3511 - accuracy: 0.8746 - val_loss: 0.3670 - val_accuracy: 0.8703\n",
      "Epoch 12/50\n",
      "1688/1688 [==============================] - 2s 1ms/step - loss: 0.3439 - accuracy: 0.8774 - val_loss: 0.3767 - val_accuracy: 0.8645\n",
      "Epoch 13/50\n",
      "1688/1688 [==============================] - 2s 1ms/step - loss: 0.3362 - accuracy: 0.8809 - val_loss: 0.3896 - val_accuracy: 0.8573\n",
      "Epoch 14/50\n",
      "1688/1688 [==============================] - 7s 4ms/step - loss: 0.2262 - accuracy: 0.9178 - val_loss: 0.3352 - val_accuracy: 0.8828\n",
      "Epoch 43/50\n",
      "1688/1688 [==============================] - 2s 1ms/step - loss: 0.2239 - accuracy: 0.9198 - val_loss: 0.3306 - val_accuracy: 0.8845\n",
      "Epoch 44/50\n",
      "1688/1688 [==============================] - 2s 1ms/step - loss: 0.2218 - accuracy: 0.9206 - val_loss: 0.3214 - val_accuracy: 0.8858\n",
      "Epoch 45/50\n",
      "1688/1688 [==============================] - 2s 1ms/step - loss: 0.2192 - accuracy: 0.9219 - val_loss: 0.3205 - val_accuracy: 0.8887\n",
      "Epoch 46/50\n",
      "1688/1688 [==============================] - 6s 3ms/step - loss: 0.2169 - accuracy: 0.9219 - val_loss: 0.3280 - val_accuracy: 0.8823\n",
      "Epoch 47/50\n",
      "1688/1688 [==============================] - 3s 2ms/step - loss: 0.2144 - accuracy: 0.9230 - val_loss: 0.3259 - val_accuracy: 0.8883\n",
      "Epoch 48/50\n",
      "1688/1688 [==============================] - 2s 1ms/step - loss: 0.2117 - accuracy: 0.9225 - val_loss: 0.3328 - val_accuracy: 0.8820\n",
      "Epoch 49/50\n",
      "1688/1688 [==============================] - 2s 1ms/step - loss: 0.2095 - accuracy: 0.9241 - val_loss: 0.3176 - val_accuracy: 0.8898\n",
      "Epoch 50/50\n",
      "1688/1688 [==============================] - 2s 1ms/step - loss: 0.2082 - accuracy: 0.9243 - val_loss: 0.3210 - val_accuracy: 0.8883\n"
     ]
    }
   ],
   "source": [
    "history = model.fit(x_train, y_train, epochs=50, validation_split=0.1)"
   ]
  },
  {
   "cell_type": "code",
   "execution_count": 19,
   "id": "5b92634c-8d79-43a5-a52f-b428280f8fac",
   "metadata": {},
   "outputs": [
    {
     "data": {
      "text/plain": [
       "{'verbose': 1, 'epochs': 50, 'steps': 1688}"
      ]
     },
     "execution_count": 19,
     "metadata": {},
     "output_type": "execute_result"
    }
   ],
   "source": [
    "history.params"
   ]
  },
  {
   "cell_type": "code",
   "execution_count": 21,
   "id": "59917b0a-55e6-430e-b8b5-dd074ab05a3f",
   "metadata": {},
   "outputs": [
    {
     "name": "stdout",
     "output_type": "stream",
     "text": [
      "{'loss': [0.8070045709609985, 0.5151335597038269, 0.4666902720928192, 0.44008806347846985, 0.41833969950675964, 0.40370315313339233, 0.3901575803756714, 0.3779674172401428, 0.36885300278663635, 0.3596811592578888, 0.3511279225349426, 0.3438732624053955, 0.33621740341186523, 0.3298375606536865, 0.32380518317222595, 0.31824085116386414, 0.3122953474521637, 0.30720192193984985, 0.3025304675102234, 0.2970678210258484, 0.29286834597587585, 0.2893788516521454, 0.285310298204422, 0.2806806266307831, 0.27678683400154114, 0.27449357509613037, 0.2715010941028595, 0.26699942350387573, 0.2645278573036194, 0.26029491424560547, 0.2577511668205261, 0.2542918026447296, 0.25110292434692383, 0.2478552907705307, 0.24583439528942108, 0.2423761785030365, 0.23947252333164215, 0.23664118349552155, 0.2358291745185852, 0.23131844401359558, 0.22839879989624023, 0.22620144486427307, 0.22394190728664398, 0.22184477746486664, 0.21919851005077362, 0.21689608693122864, 0.21436798572540283, 0.21168527007102966, 0.20947615802288055, 0.20822639763355255], 'accuracy': [0.728092610836029, 0.8208703994750977, 0.8366666436195374, 0.8453888893127441, 0.8527592420578003, 0.8582037091255188, 0.8626481294631958, 0.8665370345115662, 0.869185209274292, 0.8730000257492065, 0.8746111392974854, 0.8773518800735474, 0.8808888792991638, 0.8831481337547302, 0.8843703866004944, 0.8869073987007141, 0.8885740637779236, 0.8901851773262024, 0.8920000195503235, 0.8929073810577393, 0.8950926065444946, 0.8956666588783264, 0.8974444270133972, 0.8985740542411804, 0.9009814858436584, 0.9010555744171143, 0.9015555381774902, 0.9042037129402161, 0.9043333530426025, 0.9073888659477234, 0.907370388507843, 0.9080370664596558, 0.9092592597007751, 0.9105740785598755, 0.9115370512008667, 0.9124629497528076, 0.9140185117721558, 0.9155370593070984, 0.9147592782974243, 0.9172222018241882, 0.9183889031410217, 0.9178147912025452, 0.9198333621025085, 0.9205740690231323, 0.9218703508377075, 0.9218888878822327, 0.9229629635810852, 0.9224629402160645, 0.9240925908088684, 0.9243333339691162], 'val_loss': [0.5436148047447205, 0.5002304315567017, 0.46678370237350464, 0.4497739374637604, 0.468027800321579, 0.4195387661457062, 0.39443254470825195, 0.38528263568878174, 0.40342509746551514, 0.3777804374694824, 0.3669821321964264, 0.37670767307281494, 0.3896043300628662, 0.37292811274528503, 0.3616275191307068, 0.3632655441761017, 0.3571048080921173, 0.351635217666626, 0.3463703691959381, 0.36977511644363403, 0.340268075466156, 0.33861130475997925, 0.3394896388053894, 0.3331354856491089, 0.3466660976409912, 0.3344976305961609, 0.33488836884498596, 0.3535703122615814, 0.33678367733955383, 0.3217673599720001, 0.3267928957939148, 0.34413161873817444, 0.32506173849105835, 0.32358846068382263, 0.32569074630737305, 0.3321476876735687, 0.331132709980011, 0.3236500322818756, 0.34277886152267456, 0.3248070478439331, 0.32983654737472534, 0.33516407012939453, 0.3306276798248291, 0.32135796546936035, 0.32049423456192017, 0.3279767334461212, 0.3259366452693939, 0.3328361511230469, 0.31760793924331665, 0.32104799151420593], 'val_accuracy': [0.8149999976158142, 0.8241666555404663, 0.8296666741371155, 0.8393333554267883, 0.8396666646003723, 0.8519999980926514, 0.859333336353302, 0.8618333339691162, 0.8535000085830688, 0.8666666746139526, 0.8703333139419556, 0.8644999861717224, 0.8573333621025085, 0.8661666512489319, 0.8691666722297668, 0.8686666488647461, 0.871666669845581, 0.8768333196640015, 0.8766666650772095, 0.8636666536331177, 0.875333309173584, 0.878333330154419, 0.8794999718666077, 0.8805000185966492, 0.8768333196640015, 0.878000020980835, 0.874833345413208, 0.8744999766349792, 0.8815000057220459, 0.8824999928474426, 0.8809999823570251, 0.8786666393280029, 0.8834999799728394, 0.8843333125114441, 0.887499988079071, 0.8836666941642761, 0.8833333253860474, 0.8861666917800903, 0.8809999823570251, 0.8840000033378601, 0.8820000290870667, 0.8828333616256714, 0.8845000267028809, 0.8858333230018616, 0.8886666893959045, 0.8823333382606506, 0.8883333206176758, 0.8820000290870667, 0.8898333311080933, 0.8883333206176758]}\n"
     ]
    }
   ],
   "source": [
    "print(history.history)"
   ]
  },
  {
   "cell_type": "markdown",
   "id": "bdceeed2-c3c7-4fb3-a73f-eeed81da982d",
   "metadata": {},
   "source": [
    "# Visualizing the losses and accuracies"
   ]
  },
  {
   "cell_type": "code",
   "execution_count": 24,
   "id": "f7db662e-4c5f-4db7-89a4-2d9cdb415847",
   "metadata": {},
   "outputs": [
    {
     "data": {
      "image/png": "[encoded data removed]",
      "text/plain": [
       "<Figure size 1000x800 with 1 Axes>"
      ]
     },
     "metadata": {},
     "output_type": "display_data"
    }
   ],
   "source": [
    "fig,ax = plt.subplots(figsize=(10,8))\n",
    "ax.plot(history.history[\"loss\"], label=\"training loss\");\n",
    "ax.plot(history.history[\"accuracy\"], label=\"accuracy\")\n",
    "ax.plot(history.history[\"val_loss\"], label=\"validation loss\")\n",
    "ax.plot(history.history[\"val_accuracy\"], label=\"validation accuracy\")\n",
    "plt.legend()\n",
    "plt.show()"
   ]
  },
  {
   "cell_type": "code",
   "execution_count": 28,
   "id": "a11b8c0b-c6d2-43bb-a84e-af50ae1e6963",
   "metadata": {},
   "outputs": [
    {
     "name": "stdout",
     "output_type": "stream",
     "text": [
      "313/313 [==============================] - 0s 1ms/step - loss: 0.3341 - accuracy: 0.8828\n"
     ]
    }
   ],
   "source": [
    "eval = model.evaluate(x_test, y_test, verbose=1)"
   ]
  },
  {
   "cell_type": "code",
   "execution_count": 29,
   "id": "4ed96e3e-ddd1-42e0-aed1-a963b32292a1",
   "metadata": {},
   "outputs": [
    {
     "name": "stdout",
     "output_type": "stream",
     "text": [
      "loss: 0.33410879969596863\n",
      "accuracy: 0.8827999830245972\n"
     ]
    }
   ],
   "source": [
    "print(f\"loss: {eval[0]}\")\n",
    "print(f\"accuracy: {eval[1]}\")"
   ]
  },
  {
   "cell_type": "markdown",
   "id": "5cc52683-1e02-4a39-aa13-cef5ecab3ef4",
   "metadata": {},
   "source": [
    "# Prediction"
   ]
  },
  {
   "cell_type": "code",
   "execution_count": 31,
   "id": "62b2451e-551a-4f7e-bf2b-a548e7404f38",
   "metadata": {},
   "outputs": [],
   "source": [
    "x3 = x_test[1:3]"
   ]
  },
  {
   "cell_type": "code",
   "execution_count": 33,
   "id": "b83ab905-f7b2-41d4-bb8a-f96c88a82d2b",
   "metadata": {},
   "outputs": [
    {
     "data": {
      "text/plain": [
       "(2, 28, 28)"
      ]
     },
     "execution_count": 33,
     "metadata": {},
     "output_type": "execute_result"
    }
   ],
   "source": [
    "x3.shape"
   ]
  },
  {
   "cell_type": "code",
   "execution_count": 35,
   "id": "46ffbb68-003f-4165-bcdf-b16701c8c3a9",
   "metadata": {},
   "outputs": [
    {
     "data": {
      "image/png": "[encoded data removed]",
      "text/plain": [
       "<Figure size 640x480 with 1 Axes>"
      ]
     },
     "metadata": {},
     "output_type": "display_data"
    }
   ],
   "source": [
    "plt.imshow(x3[0]);"
   ]
  },
  {
   "cell_type": "code",
   "execution_count": 36,
   "id": "e2fbcb53-72e6-44e7-88ee-ced984982f7e",
   "metadata": {},
   "outputs": [
    {
     "data": {
      "image/png": "[encoded data removed]",
      "text/plain": [
       "<Figure size 640x480 with 1 Axes>"
      ]
     },
     "metadata": {},
     "output_type": "display_data"
    }
   ],
   "source": [
    "plt.imshow(x3[1]);"
   ]
  },
  {
   "cell_type": "code",
   "execution_count": 38,
   "id": "c51f8605-6e26-48d2-ace2-fdbc88094a15",
   "metadata": {},
   "outputs": [
    {
     "name": "stdout",
     "output_type": "stream",
     "text": [
      "1/1 [==============================] - 0s 81ms/step\n"
     ]
    },
    {
     "data": {
      "text/plain": [
       "array([[3.3402796e-06, 2.6315371e-08, 9.9659449e-01, 5.8318594e-10,\n",
       "        3.3409952e-03, 2.6412015e-12, 6.1227431e-05, 1.2698240e-13,\n",
       "        1.4920065e-09, 8.1160603e-14],\n",
       "       [1.3200265e-07, 9.9999976e-01, 1.2116010e-10, 1.6048306e-08,\n",
       "        8.6764430e-08, 5.4790821e-14, 3.2500777e-10, 2.0700540e-12,\n",
       "        1.9034783e-10, 3.8319036e-13]], dtype=float32)"
      ]
     },
     "execution_count": 38,
     "metadata": {},
     "output_type": "execute_result"
    }
   ],
   "source": [
    "model.predict(x3)"
   ]
  },
  {
   "cell_type": "code",
   "execution_count": 40,
   "id": "e5ec9089-1bd8-4da7-bd19-1081cc427200",
   "metadata": {},
   "outputs": [
    {
     "name": "stdout",
     "output_type": "stream",
     "text": [
      "1/1 [==============================] - 0s 17ms/step\n"
     ]
    },
    {
     "data": {
      "text/plain": [
       "(2, 10)"
      ]
     },
     "execution_count": 40,
     "metadata": {},
     "output_type": "execute_result"
    }
   ],
   "source": [
    "model.predict(x3).shape \n",
    "#1/1 [==============================] - 0s 15ms/step\n",
    "#(2, 10) 2 rows for 2 predictions and 10 columns for 10 outputs"
   ]
  },
  {
   "cell_type": "code",
   "execution_count": 44,
   "id": "86d4197c-11a9-45ce-b5eb-e6d0fc99aaae",
   "metadata": {},
   "outputs": [
    {
     "name": "stdout",
     "output_type": "stream",
     "text": [
      "1/1 [==============================] - 0s 18ms/step\n"
     ]
    },
    {
     "data": {
      "text/plain": [
       "array([2, 1], dtype=int64)"
      ]
     },
     "execution_count": 44,
     "metadata": {},
     "output_type": "execute_result"
    }
   ],
   "source": [
    "np.argmax(model.predict(x3).round(),  axis=1)"
   ]
  },
  {
   "cell_type": "markdown",
   "id": "4dc30361-f992-40b6-8a84-85f7146c7c14",
   "metadata": {},
   "source": [
    "# Label\tDescription\n",
    "0\tT-shirt/top\n",
    "1\tTrouser\n",
    "2\tPullover\n",
    "3\tDress\n",
    "4\tCoat\n",
    "5\tSandal\n",
    "6\tShirt\n",
    "7\tSneaker\n",
    "8\tBag\n",
    "9\tAnkle boot"
   ]
  },
  {
   "cell_type": "code",
   "execution_count": null,
   "id": "cba12ff6-1366-4aa9-80d2-a941377eb96c",
   "metadata": {},
   "outputs": [],
   "source": []
  }
 ],
 "metadata": {
  "kernelspec": {
   "display_name": "Python 3 (ipykernel)",
   "language": "python",
   "name": "python3"
  },
  "language_info": {
   "codemirror_mode": {
    "name": "ipython",
    "version": 3
   },
   "file_extension": ".py",
   "mimetype": "text/x-python",
   "name": "python",
   "nbconvert_exporter": "python",
   "pygments_lexer": "ipython3",
   "version": "3.10.13"
  }
 },
 "nbformat": 4,
 "nbformat_minor": 5
}
