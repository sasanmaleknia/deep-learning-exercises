{
 "cells": [
  {
   "cell_type": "markdown",
   "id": "658ca981-ddc0-489f-a788-a3afc8014430",
   "metadata": {},
   "source": [
    "# Importing needed packages"
   ]
  },
  {
   "cell_type": "code",
   "execution_count": 1,
   "id": "57756287-f587-4678-9f42-dd065736dc43",
   "metadata": {},
   "outputs": [],
   "source": [
    "import numpy as np\n",
    "import pandas as pd\n",
    "import matplotlib.pyplot as plt\n",
    "import tensorflow as tf\n",
    "from tensorflow import keras\n",
    "from keras.models import Sequential\n",
    "from keras.layers import Flatten\n",
    "from keras.layers import Dense\n",
    "from sklearn.datasets import fetch_california_housing\n",
    "from sklearn.model_selection import train_test_split\n",
    "from sklearn.preprocessing import StandardScaler"
   ]
  },
  {
   "cell_type": "code",
   "execution_count": 2,
   "id": "7ea175b7-6c52-4e54-8d8f-d5d3b7de7fd7",
   "metadata": {},
   "outputs": [],
   "source": [
    "california_housing = fetch_california_housing() # dataset from sklearn"
   ]
  },
  {
   "cell_type": "code",
   "execution_count": 3,
   "id": "863c3481-7c61-46da-a396-8f59c121ceed",
   "metadata": {},
   "outputs": [
    {
     "data": {
      "text/plain": [
       "{'data': array([[   8.3252    ,   41.        ,    6.98412698, ...,    2.55555556,\n",
       "           37.88      , -122.23      ],\n",
       "        [   8.3014    ,   21.        ,    6.23813708, ...,    2.10984183,\n",
       "           37.86      , -122.22      ],\n",
       "        [   7.2574    ,   52.        ,    8.28813559, ...,    2.80225989,\n",
       "           37.85      , -122.24      ],\n",
       "        ...,\n",
       "        [   1.7       ,   17.        ,    5.20554273, ...,    2.3256351 ,\n",
       "           39.43      , -121.22      ],\n",
       "        [   1.8672    ,   18.        ,    5.32951289, ...,    2.12320917,\n",
       "           39.43      , -121.32      ],\n",
       "        [   2.3886    ,   16.        ,    5.25471698, ...,    2.61698113,\n",
       "           39.37      , -121.24      ]]),\n",
       " 'target': array([4.526, 3.585, 3.521, ..., 0.923, 0.847, 0.894]),\n",
       " 'frame': None,\n",
       " 'target_names': ['MedHouseVal'],\n",
       " 'feature_names': ['MedInc',\n",
       "  'HouseAge',\n",
       "  'AveRooms',\n",
       "  'AveBedrms',\n",
       "  'Population',\n",
       "  'AveOccup',\n",
       "  'Latitude',\n",
       "  'Longitude'],\n",
       " 'DESCR': '.. _california_housing_dataset:\\n\\nCalifornia Housing dataset\\n--------------------------\\n\\n**Data Set Characteristics:**\\n\\n:Number of Instances: 20640\\n\\n:Number of Attributes: 8 numeric, predictive attributes and the target\\n\\n:Attribute Information:\\n    - MedInc        median income in block group\\n    - HouseAge      median house age in block group\\n    - AveRooms      average number of rooms per household\\n    - AveBedrms     average number of bedrooms per household\\n    - Population    block group population\\n    - AveOccup      average number of household members\\n    - Latitude      block group latitude\\n    - Longitude     block group longitude\\n\\n:Missing Attribute Values: None\\n\\nThis dataset was obtained from the StatLib repository.\\nhttps://www.dcc.fc.up.pt/~ltorgo/Regression/cal_housing.html\\n\\nThe target variable is the median house value for California districts,\\nexpressed in hundreds of thousands of dollars ($100,000).\\n\\nThis dataset was derived from the 1990 U.S. census, using one row per census\\nblock group. A block group is the smallest geographical unit for which the U.S.\\nCensus Bureau publishes sample data (a block group typically has a population\\nof 600 to 3,000 people).\\n\\nA household is a group of people residing within a home. Since the average\\nnumber of rooms and bedrooms in this dataset are provided per household, these\\ncolumns may take surprisingly large values for block groups with few households\\nand many empty houses, such as vacation resorts.\\n\\nIt can be downloaded/loaded using the\\n:func:`sklearn.datasets.fetch_california_housing` function.\\n\\n.. rubric:: References\\n\\n- Pace, R. Kelley and Ronald Barry, Sparse Spatial Autoregressions,\\n  Statistics and Probability Letters, 33 (1997) 291-297\\n'}"
      ]
     },
     "execution_count": 3,
     "metadata": {},
     "output_type": "execute_result"
    }
   ],
   "source": [
    "california_housing"
   ]
  },
  {
   "cell_type": "code",
   "execution_count": 4,
   "id": "1e7cbc24-b3bb-4f7f-9317-5bf5a9f18dec",
   "metadata": {},
   "outputs": [],
   "source": [
    "X = california_housing[\"data\"]\n",
    "y = california_housing[\"target\"]"
   ]
  },
  {
   "cell_type": "code",
   "execution_count": 5,
   "id": "888ee22d-ee9a-43d6-9937-311ab38eb479",
   "metadata": {},
   "outputs": [
    {
     "name": "stdout",
     "output_type": "stream",
     "text": [
      "[[ 8.32520000e+00  4.10000000e+01  6.98412698e+00  1.02380952e+00\n",
      "   3.22000000e+02  2.55555556e+00  3.78800000e+01 -1.22230000e+02]\n",
      " [ 8.30140000e+00  2.10000000e+01  6.23813708e+00  9.71880492e-01\n",
      "   2.40100000e+03  2.10984183e+00  3.78600000e+01 -1.22220000e+02]\n",
      " [ 7.25740000e+00  5.20000000e+01  8.28813559e+00  1.07344633e+00\n",
      "   4.96000000e+02  2.80225989e+00  3.78500000e+01 -1.22240000e+02]\n",
      " [ 5.64310000e+00  5.20000000e+01  5.81735160e+00  1.07305936e+00\n",
      "   5.58000000e+02  2.54794521e+00  3.78500000e+01 -1.22250000e+02]\n",
      " [ 3.84620000e+00  5.20000000e+01  6.28185328e+00  1.08108108e+00\n",
      "   5.65000000e+02  2.18146718e+00  3.78500000e+01 -1.22250000e+02]]\n"
     ]
    }
   ],
   "source": [
    "print(X[:5])"
   ]
  },
  {
   "cell_type": "code",
   "execution_count": 6,
   "id": "f9a85ea2-6e8f-4606-846b-c6713ff46685",
   "metadata": {},
   "outputs": [
    {
     "name": "stdout",
     "output_type": "stream",
     "text": [
      "[4.526 3.585 3.521 3.413 3.422]\n"
     ]
    }
   ],
   "source": [
    "print(y[:5])"
   ]
  },
  {
   "cell_type": "markdown",
   "id": "fac638b1-58a0-4124-a28e-5e62dc2839ca",
   "metadata": {},
   "source": [
    "# taining,testing and evaluation sets "
   ]
  },
  {
   "cell_type": "code",
   "execution_count": 7,
   "id": "f40892dc-10e2-45f4-88e6-56be7af54311",
   "metadata": {},
   "outputs": [],
   "source": [
    "X_train0, X_test, y_train0, y_test = train_test_split(X, y, test_size=0.2, random_state=616)"
   ]
  },
  {
   "cell_type": "code",
   "execution_count": 33,
   "id": "3a94fd4c-722f-48d4-a2a6-8825929ba0fb",
   "metadata": {},
   "outputs": [
    {
     "name": "stdout",
     "output_type": "stream",
     "text": [
      " training set size: ((16512, 8), (16512,))\n"
     ]
    }
   ],
   "source": [
    "print(f\" training set size: {X_train0.shape, y_train0.shape }\")"
   ]
  },
  {
   "cell_type": "code",
   "execution_count": 34,
   "id": "4afd22ed-bf3e-4634-87a9-00131168af99",
   "metadata": {},
   "outputs": [
    {
     "name": "stdout",
     "output_type": "stream",
     "text": [
      " testing set size: ((4128, 8), (4128,))\n"
     ]
    }
   ],
   "source": [
    "print(f\" testing set size: {X_test.shape, y_test.shape }\")"
   ]
  },
  {
   "cell_type": "code",
   "execution_count": 35,
   "id": "119484bf-5c0a-414b-a6c0-3cb861f356b9",
   "metadata": {},
   "outputs": [],
   "source": [
    "X_train, X_validation, y_train , y_validation = train_test_split(\n",
    "    X_train0, y_train0, test_size=0.1, random_state=616\n",
    ")"
   ]
  },
  {
   "cell_type": "code",
   "execution_count": 36,
   "id": "1a0917b2-b570-46d1-ab6e-afae157fbf00",
   "metadata": {},
   "outputs": [
    {
     "name": "stdout",
     "output_type": "stream",
     "text": [
      " training set size: ((14860, 8), (14860,))\n"
     ]
    }
   ],
   "source": [
    "print(f\" training set size: {X_train.shape, y_train.shape }\")"
   ]
  },
  {
   "cell_type": "code",
   "execution_count": 37,
   "id": "13c0e48a-fe61-404d-a54e-6c35c0efd942",
   "metadata": {},
   "outputs": [
    {
     "name": "stdout",
     "output_type": "stream",
     "text": [
      " Evaluating set size: ((1652, 8), (1652,))\n"
     ]
    }
   ],
   "source": [
    "print(f\" Evaluating set size: {X_validation.shape, y_validation.shape }\")"
   ]
  },
  {
   "cell_type": "code",
   "execution_count": 13,
   "id": "8e206e44-b0e3-41f2-8186-b32213c052ce",
   "metadata": {},
   "outputs": [
    {
     "name": "stdout",
     "output_type": "stream",
     "text": [
      " testing set size: ((4128, 8), (4128,))\n"
     ]
    }
   ],
   "source": [
    "print(f\" testing set size: {X_test.shape, y_test.shape }\")"
   ]
  },
  {
   "cell_type": "markdown",
   "id": "3fbe2fcc-4810-4c21-82b6-4f742d8ce9cc",
   "metadata": {},
   "source": [
    "# Noirmalizing the data"
   ]
  },
  {
   "cell_type": "code",
   "execution_count": 14,
   "id": "8d840ec0-c29b-4d5b-9d0b-eb3543ea04a4",
   "metadata": {},
   "outputs": [],
   "source": [
    "sc = StandardScaler()"
   ]
  },
  {
   "cell_type": "code",
   "execution_count": 15,
   "id": "2897b4fa-ea70-4232-bc4a-96be8f64c66d",
   "metadata": {},
   "outputs": [],
   "source": [
    "X_train = sc.fit_transform(X_train)\n",
    "\n",
    "X_validation = sc.transform(X_validation)\n",
    "X_test = sc.transform(X_test)"
   ]
  },
  {
   "cell_type": "code",
   "execution_count": 16,
   "id": "72a95a93-ac11-4f8a-903b-ba12feeef3d8",
   "metadata": {},
   "outputs": [
    {
     "name": "stdout",
     "output_type": "stream",
     "text": [
      "[ 0.05377367  0.58427147 -0.07899328 -0.29522748 -0.14746482  0.08029856\n",
      " -0.78083309  0.74509886]\n"
     ]
    }
   ],
   "source": [
    "print(X_train[0])"
   ]
  },
  {
   "cell_type": "code",
   "execution_count": 17,
   "id": "2fc26d22-1f55-4594-8a21-2119482ab5eb",
   "metadata": {},
   "outputs": [
    {
     "name": "stdout",
     "output_type": "stream",
     "text": [
      "[-0.45884649 -0.05284859  0.09579534  0.1606834   0.84138953  0.04831805\n",
      "  1.11905634 -1.15896718]\n"
     ]
    }
   ],
   "source": [
    "print(X_validation[0])"
   ]
  },
  {
   "cell_type": "code",
   "execution_count": 18,
   "id": "4b9170c5-7bf1-4fa8-a14d-21224a1af940",
   "metadata": {},
   "outputs": [
    {
     "name": "stdout",
     "output_type": "stream",
     "text": [
      "[-1.22379944  0.9028315  -0.79846586 -0.1785435   0.93275108  0.06653348\n",
      " -0.78083309  0.64514788]\n"
     ]
    }
   ],
   "source": [
    "print(X_test[0])"
   ]
  },
  {
   "cell_type": "markdown",
   "id": "c6177c09-9c2e-4a6c-887d-178a6df71a27",
   "metadata": {},
   "source": [
    "# Model"
   ]
  },
  {
   "cell_type": "code",
   "execution_count": 19,
   "id": "6865c0e1-1059-4631-bdc9-813c07aa62c0",
   "metadata": {},
   "outputs": [],
   "source": [
    "model = Sequential(\n",
    "    [\n",
    "        Dense(units=50, activation=\"relu\"),\n",
    "        Dense(units=10, activation=\"relu\"),\n",
    "        Dense(units=1) # No activation function needed but it depends, we could use relu or ...\n",
    "    ]\n",
    ")"
   ]
  },
  {
   "cell_type": "markdown",
   "id": "37db4ab5-4f67-47c1-9f58-d3d2800c6aa8",
   "metadata": {},
   "source": [
    "# Compiling the model"
   ]
  },
  {
   "cell_type": "code",
   "execution_count": 20,
   "id": "4e097de0-4310-441c-b262-f1930452d35a",
   "metadata": {},
   "outputs": [],
   "source": [
    "model.compile(\n",
    "    loss= \"mean_squared_error\",\n",
    "    optimizer=\"sgd\",\n",
    "    metrics=[\"mean_absolute_error\"]\n",
    ")"
   ]
  },
  {
   "cell_type": "code",
   "execution_count": 21,
   "id": "bde76f31-55bd-4993-ad3a-daa79c4e8183",
   "metadata": {},
   "outputs": [
    {
     "name": "stdout",
     "output_type": "stream",
     "text": [
      "Epoch 1/30\n",
      "465/465 [==============================] - 1s 2ms/step - loss: 1.0672 - mean_absolute_error: 0.6428 - val_loss: 0.5235 - val_mean_absolute_error: 0.5326\n",
      "Epoch 2/30\n",
      "465/465 [==============================] - 1s 1ms/step - loss: 0.4942 - mean_absolute_error: 0.5126 - val_loss: 0.4332 - val_mean_absolute_error: 0.4873\n",
      "Epoch 3/30\n",
      "465/465 [==============================] - 1s 1ms/step - loss: 0.4443 - mean_absolute_error: 0.4796 - val_loss: 0.3984 - val_mean_absolute_error: 0.4603\n",
      "Epoch 4/30\n",
      "465/465 [==============================] - 1s 1ms/step - loss: 0.4189 - mean_absolute_error: 0.4628 - val_loss: 0.3836 - val_mean_absolute_error: 0.4365\n",
      "Epoch 5/30\n",
      "465/465 [==============================] - 1s 1ms/step - loss: 0.4026 - mean_absolute_error: 0.4532 - val_loss: 0.3648 - val_mean_absolute_error: 0.4275\n",
      "Epoch 6/30\n",
      "465/465 [==============================] - 1s 1ms/step - loss: 0.3935 - mean_absolute_error: 0.4476 - val_loss: 0.3624 - val_mean_absolute_error: 0.4193\n",
      "Epoch 7/30\n",
      "465/465 [==============================] - 1s 1ms/step - loss: 0.3831 - mean_absolute_error: 0.4402 - val_loss: 0.3677 - val_mean_absolute_error: 0.4397\n",
      "Epoch 8/30\n",
      "465/465 [==============================] - 1s 1ms/step - loss: 0.3750 - mean_absolute_error: 0.4353 - val_loss: 0.3462 - val_mean_absolute_error: 0.4137\n",
      "Epoch 9/30\n",
      "465/465 [==============================] - 1s 1ms/step - loss: 0.3678 - mean_absolute_error: 0.4311 - val_loss: 0.3366 - val_mean_absolute_error: 0.4115\n",
      "Epoch 10/30\n",
      "465/465 [==============================] - 1s 1ms/step - loss: 0.3629 - mean_absolute_error: 0.4281 - val_loss: 0.3364 - val_mean_absolute_error: 0.4088\n",
      "Epoch 11/30\n",
      "465/465 [==============================] - 1s 1ms/step - loss: 0.3579 - mean_absolute_error: 0.4242 - val_loss: 0.3532 - val_mean_absolute_error: 0.4390\n",
      "Epoch 12/30\n",
      "465/465 [==============================] - 1s 1ms/step - loss: 0.3538 - mean_absolute_error: 0.4214 - val_loss: 0.3242 - val_mean_absolute_error: 0.4000\n",
      "Epoch 13/30\n",
      "465/465 [==============================] - 1s 1ms/step - loss: 0.3496 - mean_absolute_error: 0.4190 - val_loss: 0.3366 - val_mean_absolute_error: 0.4079\n",
      "Epoch 14/30\n",
      "465/465 [==============================] - 1s 1ms/step - loss: 0.3472 - mean_absolute_error: 0.4181 - val_loss: 0.3194 - val_mean_absolute_error: 0.3985\n",
      "Epoch 15/30\n",
      "465/465 [==============================] - 1s 1ms/step - loss: 0.3442 - mean_absolute_error: 0.4147 - val_loss: 0.3198 - val_mean_absolute_error: 0.3980\n",
      "Epoch 16/30\n",
      "465/465 [==============================] - 1s 1ms/step - loss: 0.3421 - mean_absolute_error: 0.4124 - val_loss: 0.3352 - val_mean_absolute_error: 0.4162\n",
      "Epoch 17/30\n",
      "465/465 [==============================] - 1s 1ms/step - loss: 0.3371 - mean_absolute_error: 0.4095 - val_loss: 0.3085 - val_mean_absolute_error: 0.3883\n",
      "Epoch 18/30\n",
      "465/465 [==============================] - 1s 1ms/step - loss: 0.3342 - mean_absolute_error: 0.4076 - val_loss: 0.3084 - val_mean_absolute_error: 0.3865\n",
      "Epoch 19/30\n",
      "465/465 [==============================] - 0s 1ms/step - loss: 0.3323 - mean_absolute_error: 0.4056 - val_loss: 0.3067 - val_mean_absolute_error: 0.3853\n",
      "Epoch 20/30\n",
      "465/465 [==============================] - 0s 1ms/step - loss: 0.3292 - mean_absolute_error: 0.4029 - val_loss: 0.3056 - val_mean_absolute_error: 0.3846\n",
      "Epoch 21/30\n",
      "465/465 [==============================] - 0s 1ms/step - loss: 0.3276 - mean_absolute_error: 0.4019 - val_loss: 0.3001 - val_mean_absolute_error: 0.3776\n",
      "Epoch 22/30\n",
      "465/465 [==============================] - 0s 1ms/step - loss: 0.3240 - mean_absolute_error: 0.4004 - val_loss: 0.2998 - val_mean_absolute_error: 0.3878\n",
      "Epoch 23/30\n",
      "465/465 [==============================] - 0s 1ms/step - loss: 0.3228 - mean_absolute_error: 0.3985 - val_loss: 0.3190 - val_mean_absolute_error: 0.3928\n",
      "Epoch 24/30\n",
      "465/465 [==============================] - 0s 1ms/step - loss: 0.3214 - mean_absolute_error: 0.3975 - val_loss: 0.2917 - val_mean_absolute_error: 0.3719\n",
      "Epoch 25/30\n",
      "465/465 [==============================] - 0s 1ms/step - loss: 0.3189 - mean_absolute_error: 0.3949 - val_loss: 0.3374 - val_mean_absolute_error: 0.4185\n",
      "Epoch 26/30\n",
      "465/465 [==============================] - 1s 1ms/step - loss: 0.3172 - mean_absolute_error: 0.3944 - val_loss: 0.3157 - val_mean_absolute_error: 0.3773\n",
      "Epoch 27/30\n",
      "465/465 [==============================] - 1s 1ms/step - loss: 0.3205 - mean_absolute_error: 0.3948 - val_loss: 0.3675 - val_mean_absolute_error: 0.4157\n",
      "Epoch 28/30\n",
      "465/465 [==============================] - 0s 1ms/step - loss: 0.3149 - mean_absolute_error: 0.3924 - val_loss: 0.2892 - val_mean_absolute_error: 0.3700\n",
      "Epoch 29/30\n",
      "465/465 [==============================] - 1s 1ms/step - loss: 0.3135 - mean_absolute_error: 0.3907 - val_loss: 0.2992 - val_mean_absolute_error: 0.3800\n",
      "Epoch 30/30\n",
      "465/465 [==============================] - 1s 1ms/step - loss: 0.3124 - mean_absolute_error: 0.3894 - val_loss: 0.2934 - val_mean_absolute_error: 0.3684\n"
     ]
    }
   ],
   "source": [
    "history  = model.fit(\n",
    "    X_train, y_train, epochs=30,validation_data=(X_validation, y_validation)\n",
    ")"
   ]
  },
  {
   "cell_type": "code",
   "execution_count": 22,
   "id": "a1d8ed99-042f-4cfc-b970-1f7acf23faa6",
   "metadata": {},
   "outputs": [
    {
     "data": {
      "text/plain": [
       "{'verbose': 1, 'epochs': 30, 'steps': 465}"
      ]
     },
     "execution_count": 22,
     "metadata": {},
     "output_type": "execute_result"
    }
   ],
   "source": [
    "history.params"
   ]
  },
  {
   "cell_type": "code",
   "execution_count": 23,
   "id": "5ce1f597-9435-4ab6-8825-cf03a19dc18a",
   "metadata": {},
   "outputs": [
    {
     "name": "stdout",
     "output_type": "stream",
     "text": [
      "{'loss': [1.067219614982605, 0.4941852390766144, 0.4443083703517914, 0.4188874065876007, 0.40257081389427185, 0.3935029208660126, 0.3831004202365875, 0.3749765455722809, 0.3677677810192108, 0.3628949522972107, 0.3578566908836365, 0.35375604033470154, 0.34959664940834045, 0.34717878699302673, 0.34420937299728394, 0.34210553765296936, 0.33710843324661255, 0.33420875668525696, 0.33232325315475464, 0.3292160630226135, 0.32763150334358215, 0.3239983916282654, 0.32282528281211853, 0.3213827311992645, 0.31886205077171326, 0.3172130882740021, 0.3205361068248749, 0.31491878628730774, 0.3135465979576111, 0.3124276399612427], 'mean_absolute_error': [0.6427509784698486, 0.5126342177391052, 0.4796411395072937, 0.4628375768661499, 0.453244149684906, 0.44755882024765015, 0.4401673674583435, 0.43533629179000854, 0.43113037943840027, 0.4281463027000427, 0.4241950809955597, 0.4213934540748596, 0.41902071237564087, 0.41806840896606445, 0.4147050082683563, 0.41243448853492737, 0.4095199704170227, 0.40757352113723755, 0.4056204557418823, 0.402948260307312, 0.40189507603645325, 0.40038973093032837, 0.3985004425048828, 0.39751434326171875, 0.394896537065506, 0.39436373114585876, 0.39484983682632446, 0.3923569321632385, 0.39065513014793396, 0.3893776535987854], 'val_loss': [0.523518979549408, 0.43321576714515686, 0.3984229862689972, 0.38360506296157837, 0.36484214663505554, 0.3624182641506195, 0.36769184470176697, 0.34624165296554565, 0.33661967515945435, 0.3364192545413971, 0.35315877199172974, 0.3241522014141083, 0.33662739396095276, 0.31939586997032166, 0.3197636902332306, 0.3351548910140991, 0.3085379898548126, 0.3084008991718292, 0.3066788911819458, 0.30559030175209045, 0.30006858706474304, 0.29978740215301514, 0.31897082924842834, 0.2916618585586548, 0.33740660548210144, 0.3157227337360382, 0.3674628734588623, 0.2891930043697357, 0.29924893379211426, 0.29339927434921265], 'val_mean_absolute_error': [0.5326328873634338, 0.48726382851600647, 0.4603016674518585, 0.43648552894592285, 0.4275064468383789, 0.4192564785480499, 0.43973514437675476, 0.413689523935318, 0.41148290038108826, 0.4088399410247803, 0.43897733092308044, 0.3999819755554199, 0.4078928530216217, 0.39847782254219055, 0.397983580827713, 0.4162132441997528, 0.38831156492233276, 0.3864538073539734, 0.38529735803604126, 0.38461074233055115, 0.377635657787323, 0.38775375485420227, 0.3928350806236267, 0.3719392716884613, 0.4184873402118683, 0.3773379921913147, 0.4156745374202728, 0.3700384199619293, 0.3799518346786499, 0.3684214651584625]}\n"
     ]
    }
   ],
   "source": [
    "print(history.history)"
   ]
  },
  {
   "cell_type": "code",
   "execution_count": 24,
   "id": "93e7d9e2-c43d-4e41-9137-de531915fc8c",
   "metadata": {},
   "outputs": [
    {
     "data": {
      "text/plain": [
       "dict_keys(['loss', 'mean_absolute_error', 'val_loss', 'val_mean_absolute_error'])"
      ]
     },
     "execution_count": 24,
     "metadata": {},
     "output_type": "execute_result"
    }
   ],
   "source": [
    "history.history.keys()"
   ]
  },
  {
   "cell_type": "code",
   "execution_count": 25,
   "id": "a91debb3-9c21-4ad8-a227-0f8813d5fcdd",
   "metadata": {},
   "outputs": [
    {
     "data": {
      "image/png": "[encoded data removed]",
      "text/plain": [
       "<Figure size 1200x600 with 1 Axes>"
      ]
     },
     "metadata": {},
     "output_type": "display_data"
    }
   ],
   "source": [
    "fig, ax = plt.subplots(figsize=(12, 6))\n",
    "\n",
    "ax.plot(history.history[\"loss\"], label=\"Training Loss\")\n",
    "ax.plot(history.history[\"mean_absolute_error\"], label=\"Training MAE\")\n",
    "ax.plot(history.history[\"val_loss\"], label=\"Validation Loss\")\n",
    "ax.plot(history.history[\"val_mean_absolute_error\"], label=\"Validation MAE\")\n",
    "\n",
    "ax.set_xlabel(\"Epochs\")\n",
    "ax.set_ylabel(\"Metric Value\")\n",
    "ax.set_title(\"Training and Validation Metrics Over Epochs\")\n",
    "ax.legend()\n",
    "plt.show()\n",
    "\n",
    "\n"
   ]
  },
  {
   "cell_type": "code",
   "execution_count": 26,
   "id": "da33180b-ce52-4765-b271-0c8b6e688ab6",
   "metadata": {},
   "outputs": [
    {
     "name": "stdout",
     "output_type": "stream",
     "text": [
      "129/129 [==============================] - 0s 1ms/step - loss: 0.3186 - mean_absolute_error: 0.3851\n"
     ]
    },
    {
     "data": {
      "text/plain": [
       "[0.3186250925064087, 0.3851141929626465]"
      ]
     },
     "execution_count": 26,
     "metadata": {},
     "output_type": "execute_result"
    }
   ],
   "source": [
    "model.evaluate(X_test, y_test, verbose=1)"
   ]
  },
  {
   "cell_type": "code",
   "execution_count": 28,
   "id": "ffa8c8ad-c8b7-4002-9ae7-babb91c263c7",
   "metadata": {},
   "outputs": [
    {
     "data": {
      "text/plain": [
       "(4, 8)"
      ]
     },
     "execution_count": 28,
     "metadata": {},
     "output_type": "execute_result"
    }
   ],
   "source": [
    "x_new = X_test[1:5]\n",
    "x_new.shape"
   ]
  },
  {
   "cell_type": "code",
   "execution_count": 31,
   "id": "03630daf-76e1-4eb8-b83a-ccc7a0a08940",
   "metadata": {},
   "outputs": [
    {
     "name": "stdout",
     "output_type": "stream",
     "text": [
      "1/1 [==============================] - 0s 24ms/step\n"
     ]
    },
    {
     "data": {
      "text/plain": [
       "array([[1.8094711],\n",
       "       [1.149153 ],\n",
       "       [1.8289695],\n",
       "       [1.1947889]], dtype=float32)"
      ]
     },
     "execution_count": 31,
     "metadata": {},
     "output_type": "execute_result"
    }
   ],
   "source": [
    "model.predict(x_new)"
   ]
  },
  {
   "cell_type": "code",
   "execution_count": 32,
   "id": "836776d7-3a53-40b7-8a50-442ff3f73292",
   "metadata": {},
   "outputs": [
    {
     "data": {
      "text/plain": [
       "array([1.825, 0.842, 2.509, 1.359])"
      ]
     },
     "execution_count": 32,
     "metadata": {},
     "output_type": "execute_result"
    }
   ],
   "source": [
    "y_test[1:5]"
   ]
  },
  {
   "cell_type": "code",
   "execution_count": null,
   "id": "21f132e9-82dc-4883-8a38-392fb4daf905",
   "metadata": {},
   "outputs": [],
   "source": []
  }
 ],
 "metadata": {
  "kernelspec": {
   "display_name": "Python 3 (ipykernel)",
   "language": "python",
   "name": "python3"
  },
  "language_info": {
   "codemirror_mode": {
    "name": "ipython",
    "version": 3
   },
   "file_extension": ".py",
   "mimetype": "text/x-python",
   "name": "python",
   "nbconvert_exporter": "python",
   "pygments_lexer": "ipython3",
   "version": "3.10.13"
  }
 },
 "nbformat": 4,
 "nbformat_minor": 5
}
